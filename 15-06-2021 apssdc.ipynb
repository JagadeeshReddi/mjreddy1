{
 "cells": [
  {
   "cell_type": "markdown",
   "metadata": {},
   "source": [
    "# python\n",
    "**bold**<br>\n",
    "***italic and bold***<br>\n",
    "*italic*\n",
    "* list\n",
    "    * sublist\n",
    "        * inner sublist\n",
    "             * circle\n",
    "> 1.order list 1<br>\n",
    ">> 2.order list 2<br>\n",
    ">>> 3.order list 3\n",
    "<img src=\"mjreddy.png\" alt=\"my image\">\n",
    "<a href=\"https://www.google.com\">Google</a><br>\n",
    "<h1> KITS </h1>\n",
    "\n",
    "<h3 style=\"colour:red\"> our family </h3>"
   ]
  },
  {
   "cell_type": "markdown",
   "metadata": {},
   "source": [
    "<h1 style=\"color:red;background-color:blue\">mjreddy</h1>"
   ]
  },
  {
   "cell_type": "markdown",
   "metadata": {},
   "source": [
    "<body>\n",
    "    hi this is jagadeesh\n",
    "</body>\n",
    "\n",
    "<h4>biodata</h4>\n",
    "\n",
    "<body>\n",
    "    <p2>\n",
    "        \n",
    "        kits our family\n",
    "    </p2>\n",
    "</body>\n",
    "    \n",
    "    "
   ]
  },
  {
   "cell_type": "code",
   "execution_count": 1,
   "metadata": {},
   "outputs": [
    {
     "name": "stdout",
     "output_type": "stream",
     "text": [
      "surya\n"
     ]
    }
   ],
   "source": [
    "s='surya'\n",
    "print(s)"
   ]
  },
  {
   "cell_type": "markdown",
   "metadata": {},
   "source": [
    "# Datatypes\n",
    "* Integer\n",
    "* float\n",
    "* String\n"
   ]
  },
  {
   "cell_type": "code",
   "execution_count": 2,
   "metadata": {},
   "outputs": [
    {
     "name": "stdout",
     "output_type": "stream",
     "text": [
      "enter ur good namejagadeesh\n",
      "enter ur passwordq76t\n",
      "login falied\n"
     ]
    }
   ],
   "source": [
    "# check the username and password\n",
    "name = input('enter ur good name')\n",
    "password=input('enter ur password')\n",
    "if name == password:\n",
    "    print('login success')\n",
    "else:\n",
    "    print('login falied')"
   ]
  },
  {
   "cell_type": "code",
   "execution_count": null,
   "metadata": {},
   "outputs": [],
   "source": [
    "name=input('enter ur username')\n",
    "if name=='apssdc':\n",
    "    pass=input('enter the password')\n",
    "    if pass==1234:\n",
    "        print('the login successful')\n",
    "    else:\n",
    "        print('login failed')"
   ]
  },
  {
   "cell_type": "code",
   "execution_count": 6,
   "metadata": {},
   "outputs": [
    {
     "name": "stdout",
     "output_type": "stream",
     "text": [
      "enter ur usernameapssdc\n",
      "enter the password1234\n",
      "the login successful\n"
     ]
    }
   ],
   "source": [
    "name=input('enter ur username')\n",
    "if name=='apssdc':\n",
    "    password=int(input('enter the password'))\n",
    "    if password==1234:\n",
    "        print('the login successful')\n",
    "    else:\n",
    "            print('login failed')"
   ]
  },
  {
   "cell_type": "code",
   "execution_count": null,
   "metadata": {},
   "outputs": [],
   "source": []
  }
 ],
 "metadata": {
  "kernelspec": {
   "display_name": "Python 3",
   "language": "python",
   "name": "python3"
  },
  "language_info": {
   "codemirror_mode": {
    "name": "ipython",
    "version": 3
   },
   "file_extension": ".py",
   "mimetype": "text/x-python",
   "name": "python",
   "nbconvert_exporter": "python",
   "pygments_lexer": "ipython3",
   "version": "3.7.6"
  }
 },
 "nbformat": 4,
 "nbformat_minor": 4
}
